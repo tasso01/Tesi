{
 "cells": [
  {
   "cell_type": "markdown",
   "metadata": {},
   "source": [
    "# Calculate quantities for analysis #\n",
    "These notebooks describe how to calculate the data and how to produce figures in the manuscript \n",
    "\"Barnaba: Software for Analysis of Nucleic Acids Structures and Trajectories\". \n",
    "Here, we calculate different quantities over the entire trajectory:\n",
    "- eRMSD from reference structure\n",
    "- RMSD from reference structure\n",
    "- Base-pairing and base-stacking detection (annotation)\n",
    "- Dot-bracket annotation\n",
    "- Backbone torsion angles\n",
    "- $^3$J scalar couplings\n",
    "- Relative position and orientation between nucleobases as G-vectors, as defined in Bottaro, Di Palma, Bussi. NAR 2014.\n",
    "\n",
    "All the data is saved to pickle files for later analysis. The MD trajectory is taken from the paper \"RNA force field with accuracy comparable to state-of- the-art protein force fields\", PNAS, 2017.\n",
    "\n",
    "First, we import the modules barnaba and pickles, and define the location of the topology/trajectory file, as well as the location of the native, reference structure. \n"
   ]
  },
  {
   "cell_type": "code",
   "execution_count": 1,
   "metadata": {},
   "outputs": [],
   "source": [
    "import barnaba as bb\n",
    "import pickle\n",
    "\n",
    "top = \"topology.pdb\"\n",
    "traj = \"trajectory.dcd\" \n",
    "native = \"2KOC.pdb\" "
   ]
  },
  {
   "cell_type": "markdown",
   "metadata": {},
   "source": [
    "Now we calculate all the quantitites described above and save the data to pickle file. Note that heavy_atoms=True in RMSD calculation. Default mode is backbone-only."
   ]
  },
  {
   "cell_type": "code",
   "execution_count": 2,
   "metadata": {},
   "outputs": [
    {
     "name": "stderr",
     "output_type": "stream",
     "text": [
      "# Loaded reference 2KOC.pdb \n",
      "# Loaded target trajectory.dcd \n"
     ]
    },
    {
     "name": "stdout",
     "output_type": "stream",
     "text": [
      "# calculate rmsd.p\n",
      "# found  294 atoms in common\n",
      "# calculate pairs.p\n"
     ]
    },
    {
     "name": "stderr",
     "output_type": "stream",
     "text": [
      "# Loading trajectory.dcd \n"
     ]
    },
    {
     "name": "stdout",
     "output_type": "stream",
     "text": [
      "# calculate angles.p\n"
     ]
    },
    {
     "name": "stderr",
     "output_type": "stream",
     "text": [
      "# Loading trajectory.dcd \n"
     ]
    },
    {
     "name": "stdout",
     "output_type": "stream",
     "text": [
      "# calculate couplings.p\n"
     ]
    },
    {
     "name": "stderr",
     "output_type": "stream",
     "text": [
      "# Loading trajectory.dcd \n"
     ]
    },
    {
     "name": "stdout",
     "output_type": "stream",
     "text": [
      "# calculate gvec.p\n"
     ]
    },
    {
     "name": "stderr",
     "output_type": "stream",
     "text": [
      "# Loading trajectory.dcd \n"
     ]
    }
   ],
   "source": [
    "# calculate ermsd and store in a pickle file \n",
    "fname = \"ermsd.p\"\n",
    "ermsd = bb.ermsd(native,traj,topology=top)\n",
    "pickle.dump(ermsd[1:],open(fname, \"w\"))\n",
    "\n",
    "# calculate rmsd and store in a pickle file \n",
    "fname = \"rmsd.p\"\n",
    "print \"# calculate %s\" % fname\n",
    "rmsd = bb.rmsd(native,traj,topology=top,heavy_atom=True)\n",
    "pickle.dump(rmsd[1:],open(fname, \"w\"))\n",
    "\n",
    "# calculate annotation and store in pickle file\n",
    "fname = \"pairs.p\"\n",
    "print \"# calculate %s\" % fname\n",
    "stackings, pairings, res = bb.annotate(traj,topology=top)\n",
    "pickle.dump([pairings[1:], res],open(fname, \"w\"))\n",
    "\n",
    "# calculate dot-bracket annotation and store in pickle file\n",
    "fname = \"dotbracket.p\"\n",
    "dotbr,ss = bb.dot_bracket(pairings,res)\n",
    "pickle.dump([dotbr[1:], res],open(fname, \"w\"))\n",
    "\n",
    "# Calculate torsion angles\n",
    "fname = \"angles.p\"\n",
    "print \"# calculate %s\" % fname\n",
    "angles,res = bb.backbone_angles(traj,topology=top)\n",
    "pickle.dump([angles[1:],res],open(fname, \"w\"))\n",
    "\n",
    "# calculate couplings and save to pickle\n",
    "fname = \"couplings.p\"\n",
    "print \"# calculate %s\" % fname\n",
    "couplings,res = bb.jcouplings(traj,topology=top)\n",
    "pickle.dump([couplings[1:],res],open(fname, \"w\"))\n",
    "\n",
    "# calculate couplings and save to pickle\n",
    "fname = \"gvec.p\"\n",
    "print \"# calculate %s\" % fname\n",
    "gvec,seq = bb.dump_gvec(traj,topology=top)\n",
    "pickle.dump([gvec[1:],seq],open(fname, \"w\"))\n",
    "\n",
    "\n"
   ]
  },
  {
   "cell_type": "markdown",
   "metadata": {},
   "source": [
    "Now we are ready to produce the figures. Please check out the notebook 01_figure. \n"
   ]
  }
 ],
 "metadata": {
  "kernelspec": {
   "display_name": "Python [conda env:anaconda]",
   "language": "python",
   "name": "conda-env-anaconda-py"
  },
  "language_info": {
   "codemirror_mode": {
    "name": "ipython",
    "version": 2
   },
   "file_extension": ".py",
   "mimetype": "text/x-python",
   "name": "python",
   "nbconvert_exporter": "python",
   "pygments_lexer": "ipython2",
   "version": "2.7.14"
  }
 },
 "nbformat": 4,
 "nbformat_minor": 2
}
