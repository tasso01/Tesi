{
 "cells": [
  {
   "cell_type": "code",
   "execution_count": 2,
   "metadata": {},
   "outputs": [
    {
     "data": {
      "application/javascript": [
       "IPython.notebook.set_autosave_interval(0)"
      ]
     },
     "metadata": {},
     "output_type": "display_data"
    },
    {
     "name": "stdout",
     "output_type": "stream",
     "text": [
      "Autosave disabled\n"
     ]
    }
   ],
   "source": [
    "%autosave 0\n",
    "from __future__ import print_function"
   ]
  },
  {
   "cell_type": "markdown",
   "metadata": {},
   "source": [
    "# Search for single-stranded RNA motifs #\n",
    "\n",
    "We will now search for single-stranded motifs within a structure/trajectory.\n",
    "This is performed by using the ss_motif function.\n",
    "\n",
    "```python\n",
    "results = bb.ss_motif(query,target,threshold=0.6,out=None,bulges=0)\n",
    "```\n",
    "\n",
    "- *query* is a PDB file with the structure you want to search for within the file *target*. If the keyword *topology* is specified, the query structure is searched in the target trajectory file.\n",
    "- *threshold* is the eRMSD threshold to consider a substructure in *target* to be significantly similar to *query*. \n",
    " Typical relevant hits have eRMSD in the 0.6-0.9 range.\n",
    "- If you specify the optional string keyword *out*, PDB structures below the threshold are written with the specified prefix. \n",
    " - It is possible to specify the maximum number of allowed inserted or bulged bases with the option *bulges*.\n",
    " - The search is performed not considering the sequence. It is possible to specify a sequence with the *sequence* option. Abbreviations (i.e N/R/Y) are accepted.\n",
    "\n",
    "The function returns a list of hits. Each element in this list is in turn a list containing the following information:\n",
    "- element 0 is the frame index. This is relevant if the search is performed over a trajectory/multi model PDB.\n",
    "- element 1 is the eRMSD distance from the query\n",
    "- element 2 is the list of residues.\n",
    "\n",
    "In the following example we search for structures similar to `GNRA.pdb` in a crystal structure of the H.Marismortui large ribosomal subunit (PDB 1S72)."
   ]
  },
  {
   "cell_type": "code",
   "execution_count": 3,
   "metadata": {},
   "outputs": [
    {
     "name": "stderr",
     "output_type": "stream",
     "text": [
      "# Loaded query ../test/data/GNRA.pdb \n",
      "# Loaded target ../test/data/1S72.pdb \n",
      "# Treating nucleotide 1MA628 as A \n",
      "# Treating nucleotide OMU2587 as U \n",
      "# Treating nucleotide OMG2588 as G \n",
      "# Treating nucleotide UR32619 as U \n",
      "# Treating nucleotide PSU2621 as U \n"
     ]
    }
   ],
   "source": [
    "import barnaba as bb\n",
    "\n",
    "# find all GNRA tetraloops in H.Marismortui large ribosomal subunit (PDB 1S72)\n",
    "query = \"../test/data/GNRA.pdb\" \n",
    "target = \"../test/data/1S72.pdb\" \n",
    "\n",
    "# call function. \n",
    "results = bb.ss_motif(query,target,threshold=0.6,out='gnra_loops',bulges=1)\n"
   ]
  },
  {
   "cell_type": "markdown",
   "metadata": {},
   "source": [
    "Now we print the fragment residues and their eRMSD \n",
    "distance from the query structure."
   ]
  },
  {
   "cell_type": "code",
   "execution_count": 4,
   "metadata": {},
   "outputs": [
    {
     "name": "stdout",
     "output_type": "stream",
     "text": [
      " 0 eRMSD:0.436 \n",
      "     Sequence: C_252_0,U_253_0,C_254_0,A_255_0,C_256_0,G_257_0\n",
      "\n",
      " 1 eRMSD:0.448 \n",
      "     Sequence: U_468_0,G_469_0,U_470_0,G_471_0,A_472_0,A_473_0\n",
      "\n",
      " 2 eRMSD:0.441 \n",
      "     Sequence: C_576_0,G_577_0,C_578_0,G_579_0,A_580_0,G_581_0\n",
      "\n",
      " 3 eRMSD:0.461 \n",
      "     Sequence: G_690_0,G_691_0,A_692_0,A_693_0,A_694_0,C_695_0\n",
      "\n",
      " 4 eRMSD:0.352 \n",
      "     Sequence: C_804_0,G_805_0,A_806_0,A_807_0,A_808_0,G_809_0\n",
      "\n",
      " 5 eRMSD:0.555 \n",
      "     Sequence: U_1326_0,G_1327_0,A_1328_0,A_1329_0,A_1330_0,A_1331_0\n",
      "\n",
      " 6 eRMSD:0.429 \n",
      "     Sequence: G_1628_0,G_1629_0,A_1630_0,A_1631_0,A_1632_0,C_1633_0\n",
      "\n",
      " 7 eRMSD:0.276 \n",
      "     Sequence: C_1862_0,G_1863_0,C_1864_0,A_1865_0,A_1866_0,G_1867_0\n",
      "\n",
      " 8 eRMSD:0.210 \n",
      "     Sequence: C_2248_0,G_2249_0,G_2250_0,G_2251_0,A_2252_0,G_2253_0\n",
      "\n",
      " 9 eRMSD:0.314 \n",
      "     Sequence: C_2411_0,G_2412_0,A_2413_0,A_2414_0,A_2415_0,G_2416_0\n",
      "\n",
      "10 eRMSD:0.426 \n",
      "     Sequence: C_2629_0,G_2630_0,U_2631_0,G_2632_0,A_2633_0,G_2634_0\n",
      "\n",
      "11 eRMSD:0.350 \n",
      "     Sequence: C_2695_0,G_2696_0,A_2697_0,G_2698_0,A_2699_0,G_2700_0\n",
      "\n",
      "12 eRMSD:0.475 \n",
      "     Sequence: G_2876_0,G_2877_0,U_2878_0,A_2879_0,A_2880_0,C_2881_0\n",
      "\n",
      "13 eRMSD:0.239 \n",
      "     Sequence: C_89_1,G_90_1,C_91_1,G_92_1,A_93_1,G_94_1\n",
      "\n",
      "14 eRMSD:0.488 \n",
      "     Sequence: C_1594_0,G_1595_0,A_1597_0,A_1598_0,U_1599_0,G_1600_0\n",
      "\n",
      "15 eRMSD:0.508 \n",
      "     Sequence: U_493_0,C_494_0,A_495_0,G_496_0,A_498_0,G_499_0\n",
      "\n",
      "16 eRMSD:0.445 \n",
      "     Sequence: G_1054_0,G_1055_0,U_1056_0,A_1057_0,A_1058_0,C_1060_0\n",
      "\n",
      "17 eRMSD:0.302 \n",
      "     Sequence: C_1793_0,G_1794_0,G_1795_0,A_1796_0,A_1797_0,G_1799_0\n",
      "\n"
     ]
    }
   ],
   "source": [
    "for j in range(len(results)):\n",
    "    #seq = \"\".join([r.split(\"_\")[0] for r in results[j][2]])\n",
    "    print(\"%2d eRMSD:%5.3f \" % (j,results[j][1]))\n",
    "    print(\"     Sequence: %s\" % \",\".join(results[j][2]))\n",
    "    print()"
   ]
  },
  {
   "cell_type": "markdown",
   "metadata": {},
   "source": [
    "We can also calculate RMSD distances for the different hits"
   ]
  },
  {
   "cell_type": "code",
   "execution_count": 5,
   "metadata": {},
   "outputs": [
    {
     "name": "stdout",
     "output_type": "stream",
     "text": [
      "# found  72 atoms in common\n",
      "# found  72 atoms in common\n",
      "# found  72 atoms in common\n",
      "# found  72 atoms in common\n",
      "# found  72 atoms in common\n",
      "# found  72 atoms in common\n",
      "# found  72 atoms in common\n",
      "# found  72 atoms in common\n",
      "# found  72 atoms in common\n",
      "# found  72 atoms in common\n",
      "# found  72 atoms in common\n",
      "# found  72 atoms in common\n",
      "# found  72 atoms in common\n",
      "# found  72 atoms in common\n",
      "# found  72 atoms in common\n",
      "# found  72 atoms in common\n",
      "# found  72 atoms in common\n",
      "# found  72 atoms in common\n",
      " 0 eRMSD:0.436 RMSD: 0.7048     Sequence: CUCACG\n",
      " 1 eRMSD:0.448 RMSD: 0.6999     Sequence: UGUGAA\n",
      " 2 eRMSD:0.441 RMSD: 0.7403     Sequence: CGCGAG\n",
      " 3 eRMSD:0.461 RMSD: 0.6419     Sequence: GGAAAC\n",
      " 4 eRMSD:0.352 RMSD: 0.8012     Sequence: CGAAAG\n",
      " 5 eRMSD:0.555 RMSD: 0.8040     Sequence: UGAAAA\n",
      " 6 eRMSD:0.429 RMSD: 0.8208     Sequence: GGAAAC\n",
      " 7 eRMSD:0.276 RMSD: 0.7992     Sequence: CGCAAG\n",
      " 8 eRMSD:0.210 RMSD: 0.6920     Sequence: CGGGAG\n",
      " 9 eRMSD:0.314 RMSD: 0.7170     Sequence: CGAAAG\n",
      "10 eRMSD:0.426 RMSD: 0.6651     Sequence: CGUGAG\n",
      "11 eRMSD:0.350 RMSD: 0.6953     Sequence: CGAGAG\n",
      "12 eRMSD:0.475 RMSD: 0.9468     Sequence: GGUAAC\n",
      "13 eRMSD:0.239 RMSD: 0.6417     Sequence: CGCGAG\n",
      "14 eRMSD:0.488 RMSD: 2.2815     Sequence: CGAAUG\n",
      "15 eRMSD:0.508 RMSD: 1.4962     Sequence: UCAGAG\n",
      "16 eRMSD:0.445 RMSD: 1.0643     Sequence: GGUAAC\n",
      "17 eRMSD:0.302 RMSD: 1.2767     Sequence: CGGAAG\n"
     ]
    }
   ],
   "source": [
    "import glob\n",
    "\n",
    "pdbs = glob.glob(\"gnra_loops*.pdb\")\n",
    "dists = [bb.rmsd(query,f)[0] for f in pdbs]\n",
    "\n",
    "for j in range(len(results)):\n",
    "    seq = \"\".join([r.split(\"_\")[0] for r in results[j][2]])\n",
    "    print(\"%2d eRMSD:%5.3f RMSD: %6.4f\" % (j,results[j][1],10.*dists[j]), end=\"\")\n",
    "    print(\"     Sequence: %s\" % seq)\n",
    "\n",
    "    #print \"%50s %6.4f AA\" % (f,10.*dist[0])"
   ]
  },
  {
   "cell_type": "markdown",
   "metadata": {},
   "source": [
    "Note that the first hit has a low eRMSD, but no GNRA sequence. Let's have a look at this structure:"
   ]
  },
  {
   "cell_type": "code",
   "execution_count": 6,
   "metadata": {},
   "outputs": [
    {
     "data": {
      "text/html": [
       "<div id=\"3dmolviewer_153744826505\"  style=\"position: relative; width: 900px; height: 600px\">\n",
       "<script>\n",
       "if(typeof $3Dmolpromise === 'undefined') $3Dmolpromise = $.when($.getScript('https://3dmol.csb.pitt.edu/build/3Dmol.js'))\n",
       "var viewer_153744826505 = null;\n",
       "$3Dmolpromise.done(function() {\n",
       "var viewergrid_153744826505 = null;\n",
       "viewergrid_153744826505 = $3Dmol.createViewerGrid($(\"#3dmolviewer_153744826505\"),{rows: 1, cols: 2, control_all: true},{backgroundColor:\"white\"});\n",
       "viewer_153744826505 = viewergrid_153744826505[0][0];\n",
       "\tviewergrid_153744826505[0][0].addModel(\"ATOM   8167  P     U 1 381    -154.386-241.040 202.969  1.00116.25           P  \\nATOM   8168  OP1   U 1 381    -154.031-242.162 202.062  1.00117.64           O  \\nATOM   8169  OP2   U 1 381    -153.842-241.035 204.360  1.00116.01           O1-\\nATOM   8170  O5'   U 1 381    -154.072-239.655 202.261  1.00114.36           O  \\nATOM   8171  C5'   U 1 381    -154.867-239.196 201.179  1.00114.13           C  \\nATOM   8172  C4'   U 1 381    -154.451-237.814 200.755  1.00112.23           C  \\nATOM   8173  O4'   U 1 381    -155.210-236.818 201.490  1.00111.23           O  \\nATOM   8174  C3'   U 1 381    -153.005-237.455 201.037  1.00111.22           C  \\nATOM   8175  O3'   U 1 381    -152.116-237.975 200.072  1.00111.62           O  \\nATOM   8176  C2'   U 1 381    -153.044-235.940 201.075  1.00109.33           C  \\nATOM   8177  O2'   U 1 381    -153.102-235.417 199.758  1.00108.78           O  \\nATOM   8178  C1'   U 1 381    -154.394-235.698 201.757  1.00109.51           C  \\nATOM   8179  N1    U 1 381    -154.259-235.555 203.227  1.00109.21           N  \\nATOM   8180  C2    U 1 381    -154.334-234.288 203.766  1.00107.66           C  \\nATOM   8181  O2    U 1 381    -154.496-233.297 203.085  1.00106.56           O  \\nATOM   8182  N3    U 1 381    -154.205-234.217 205.129  1.00107.49           N  \\nATOM   8183  C4    U 1 381    -154.020-235.276 205.994  1.00108.71           C  \\nATOM   8184  O4    U 1 381    -153.919-235.065 207.200  1.00108.40           O  \\nATOM   8185  C5    U 1 381    -153.960-236.560 205.372  1.00110.29           C  \\nATOM   8186  C6    U 1 381    -154.080-236.647 204.045  1.00110.49           C  \\nATOM   8187  P     G 1 382    -150.544-238.007 200.376  1.00121.09           P  \\nATOM   8188  OP1   G 1 382    -149.869-238.500 199.143  1.00121.57           O  \\nATOM   8189  OP2   G 1 382    -150.353-238.759 201.649  1.00121.94           O1-\\nATOM   8190  O5'   G 1 382    -150.215-236.470 200.597  1.00119.04           O  \\nATOM   8191  C5'   G 1 382    -148.968-236.071 201.124  1.00118.11           C  \\nATOM   8192  C4'   G 1 382    -148.932-234.594 201.402  1.00116.26           C  \\nATOM   8193  O4'   G 1 382    -150.204-234.163 201.968  1.00116.12           O  \\nATOM   8194  C3'   G 1 382    -147.901-234.152 202.425  1.00115.37           C  \\nATOM   8195  O3'   G 1 382    -146.610-234.006 201.878  1.00114.85           O  \\nATOM   8196  C2'   G 1 382    -148.506-232.869 202.958  1.00113.98           C  \\nATOM   8197  O2'   G 1 382    -148.396-231.831 201.998  1.00112.74           O  \\nATOM   8198  C1'   G 1 382    -149.969-233.286 203.047  1.00114.93           C  \\nATOM   8199  N9    G 1 382    -150.224-234.036 204.285  1.00115.88           N  \\nATOM   8200  C8    G 1 382    -150.465-235.389 204.358  1.00117.61           C  \\nATOM   8201  N7    G 1 382    -150.625-235.813 205.581  1.00118.17           N  \\nATOM   8202  C5    G 1 382    -150.464-234.668 206.358  1.00116.72           C  \\nATOM   8203  C6    G 1 382    -150.529-234.505 207.765  1.00116.56           C  \\nATOM   8204  O6    G 1 382    -150.750-235.369 208.628  1.00117.71           O  \\nATOM   8205  N1    G 1 382    -150.304-233.183 208.133  1.00114.91           N  \\nATOM   8206  C2    G 1 382    -150.053-232.158 207.263  1.00113.59           C  \\nATOM   8207  N2    G 1 382    -149.863-230.957 207.811  1.00112.13           N  \\nATOM   8208  N3    G 1 382    -149.991-232.288 205.954  1.00113.71           N  \\nATOM   8209  C4    G 1 382    -150.205-233.563 205.574  1.00115.29           C  \\nATOM   8210  P     A 1 383    -145.722-235.309 201.584  1.00132.25           P  \\nATOM   8211  OP1   A 1 383    -146.460-236.470 202.130  1.00133.87           O  \\nATOM   8212  OP2   A 1 383    -145.389-235.293 200.137  1.00132.22           O1-\\nATOM   8213  O5'   A 1 383    -144.410-235.050 202.454  1.00131.57           O  \\nATOM   8214  C5'   A 1 383    -144.247-235.652 203.735  1.00132.26           C  \\nATOM   8215  C4'   A 1 383    -143.439-234.775 204.663  1.00130.99           C  \\nATOM   8216  O4'   A 1 383    -142.592-233.888 203.884  1.00129.73           O  \\nATOM   8217  C3'   A 1 383    -144.239-233.842 205.568  1.00130.03           C  \\nATOM   8218  O3'   A 1 383    -144.700-234.489 206.750  1.00130.93           O  \\nATOM   8219  C2'   A 1 383    -143.259-232.695 205.835  1.00128.42           C  \\nATOM   8220  O2'   A 1 383    -142.346-233.035 206.871  1.00128.63           O  \\nATOM   8221  C1'   A 1 383    -142.486-232.629 204.517  1.00128.18           C  \\nATOM   8222  N9    A 1 383    -143.010-231.596 203.598  1.00127.09           N  \\nATOM   8223  C8    A 1 383    -143.683-231.808 202.418  1.00127.52           C  \\nATOM   8224  N7    A 1 383    -144.013-230.710 201.782  1.00126.32           N  \\nATOM   8225  C5    A 1 383    -143.516-229.701 202.590  1.00125.02           C  \\nATOM   8226  C6    A 1 383    -143.546-228.305 202.457  1.00123.44           C  \\nATOM   8227  N6    A 1 383    -144.117-227.667 201.434  1.00122.89           N  \\nATOM   8228  N1    A 1 383    -142.958-227.583 203.433  1.00122.47           N  \\nATOM   8229  C2    A 1 383    -142.384-228.226 204.465  1.00123.06           C  \\nATOM   8230  N3    A 1 383    -142.293-229.535 204.701  1.00124.54           N  \\nATOM   8231  C4    A 1 383    -142.887-230.228 203.710  1.00125.47           C  \\nATOM   8232  P     A 1 384    -146.141-234.134 207.387  1.00115.76           P  \\nATOM   8233  OP1   A 1 384    -146.299-234.992 208.593  1.00116.85           O  \\nATOM   8234  OP2   A 1 384    -147.144-234.241 206.296  1.00116.15           O1-\\nATOM   8235  O5'   A 1 384    -145.978-232.610 207.827  1.00113.88           O  \\nATOM   8236  C5'   A 1 384    -145.163-232.256 208.936  1.00113.30           C  \\nATOM   8237  C4'   A 1 384    -145.012-230.767 209.044  1.00111.53           C  \\nATOM   8238  O4'   A 1 384    -144.420-230.256 207.827  1.00110.75           O  \\nATOM   8239  C3'   A 1 384    -146.308-229.992 209.200  1.00110.96           C  \\nATOM   8240  O3'   A 1 384    -146.726-229.914 210.551  1.00111.06           O  \\nATOM   8241  C2'   A 1 384    -145.979-228.640 208.585  1.00109.31           C  \\nATOM   8242  O2'   A 1 384    -145.282-227.828 209.514  1.00108.26           O  \\nATOM   8243  C1'   A 1 384    -145.009-229.031 207.476  1.00109.48           C  \\nATOM   8244  N9    A 1 384    -145.676-229.198 206.176  1.00109.81           N  \\nATOM   8245  C8    A 1 384    -146.086-230.365 205.594  1.00111.25           C  \\nATOM   8246  N7    A 1 384    -146.623-230.184 204.414  1.00111.17           N  \\nATOM   8247  C5    A 1 384    -146.551-228.812 204.198  1.00109.59           C  \\nATOM   8248  C6    A 1 384    -146.954-227.978 203.131  1.00108.76           C  \\nATOM   8249  N6    A 1 384    -147.541-228.409 202.015  1.00109.45           N  \\nATOM   8250  N1    A 1 384    -146.730-226.652 203.243  1.00107.22           N  \\nATOM   8251  C2    A 1 384    -146.144-226.206 204.362  1.00106.56           C  \\nATOM   8252  N3    A 1 384    -145.723-226.882 205.431  1.00107.19           N  \\nATOM   8253  C4    A 1 384    -145.957-228.197 205.281  1.00108.73           C  \\nATOM   8254  P     A 1 385    -148.129-229.237 210.932  1.00115.07           P  \\nATOM   8255  OP1   A 1 385    -148.488-229.708 212.294  1.00115.81           O  \\nATOM   8256  OP2   A 1 385    -149.051-229.509 209.819  1.00115.59           O1-\\nATOM   8257  O5'   A 1 385    -147.782-227.689 210.974  1.00113.24           O  \\nATOM   8258  C5'   A 1 385    -148.768-226.731 211.317  1.00112.49           C  \\nATOM   8259  C4'   A 1 385    -148.679-225.524 210.426  1.00111.09           C  \\nATOM   8260  O4'   A 1 385    -147.883-225.841 209.260  1.00111.14           O  \\nATOM   8261  C3'   A 1 385    -149.993-225.025 209.862  1.00110.94           C  \\nATOM   8262  O3'   A 1 385    -150.680-224.183 210.758  1.00110.33           O  \\nATOM   8263  C2'   A 1 385    -149.575-224.328 208.577  1.00110.02           C  \\nATOM   8264  O2'   A 1 385    -149.087-223.024 208.848  1.00108.50           O  \\nATOM   8265  C1'   A 1 385    -148.409-225.200 208.125  1.00110.56           C  \\nATOM   8266  N9    A 1 385    -148.834-226.236 207.179  1.00111.79           N  \\nATOM   8267  C8    A 1 385    -148.875-227.586 207.403  1.00113.29           C  \\nATOM   8268  N7    A 1 385    -149.294-228.268 206.363  1.00114.17           N  \\nATOM   8269  C5    A 1 385    -149.530-227.301 205.401  1.00113.16           C  \\nATOM   8270  C6    A 1 385    -149.982-227.386 204.080  1.00113.41           C  \\nATOM   8271  N6    A 1 385    -150.287-228.537 203.479  1.00114.82           N  \\nATOM   8272  N1    A 1 385    -150.105-226.225 203.396  1.00112.18           N  \\nATOM   8273  C2    A 1 385    -149.790-225.072 204.013  1.00110.81           C  \\nATOM   8274  N3    A 1 385    -149.352-224.865 205.254  1.00110.43           N  \\nATOM   8275  C4    A 1 385    -149.243-226.040 205.892  1.00111.67           C  \\nATOM   8276  P     A 1 386    -152.063-224.665 211.396  1.00103.21           P  \\nATOM   8277  OP1   A 1 386    -152.682-223.471 212.055  1.00102.21           O  \\nATOM   8278  OP2   A 1 386    -151.761-225.867 212.217  1.00104.47           O1-\\nATOM   8279  O5'   A 1 386    -152.913-225.086 210.112  1.00103.89           O  \\nATOM   8280  C5'   A 1 386    -153.528-224.104 209.292  1.00103.06           C  \\nATOM   8281  C4'   A 1 386    -153.632-224.564 207.863  1.00103.52           C  \\nATOM   8282  O4'   A 1 386    -152.556-225.485 207.562  1.00104.10           O  \\nATOM   8283  C3'   A 1 386    -154.876-225.341 207.508  1.00104.82           C  \\nATOM   8284  O3'   A 1 386    -155.991-224.513 207.293  1.00104.39           O  \\nATOM   8285  C2'   A 1 386    -154.440-226.100 206.270  1.00105.45           C  \\nATOM   8286  O2'   A 1 386    -154.416-225.239 205.141  1.00104.52           O  \\nATOM   8287  C1'   A 1 386    -153.003-226.454 206.642  1.00105.29           C  \\nATOM   8288  N9    A 1 386    -152.919-227.770 207.288  1.00106.73           N  \\nATOM   8289  C8    A 1 386    -152.576-228.042 208.585  1.00106.94           C  \\nATOM   8290  N7    A 1 386    -152.607-229.321 208.861  1.00108.40           N  \\nATOM   8291  C5    A 1 386    -152.994-229.920 207.670  1.00109.19           C  \\nATOM   8292  C6    A 1 386    -153.210-231.259 207.312  1.00110.80           C  \\nATOM   8293  N6    A 1 386    -153.057-232.274 208.158  1.00111.96           N  \\nATOM   8294  N1    A 1 386    -153.596-231.520 206.043  1.00111.24           N  \\nATOM   8295  C2    A 1 386    -153.751-230.488 205.200  1.00110.11           C  \\nATOM   8296  N3    A 1 386    -153.577-229.186 205.417  1.00108.55           N  \\nATOM   8297  C4    A 1 386    -153.191-228.971 206.688  1.00108.17           C  \\n\",\"pdb\");\n",
       "\tviewergrid_153744826505[0][1].addModel(\"REMARK   1 CREATED WITH MDTraj 1.9.1, 2018-09-20\\nCRYST1  211.660  299.670  573.770  90.00  90.00  90.00 P 1           1 \\nMODEL        0\\nATOM      1  P     C A 252    -153.625-241.052 203.231  1.00  0.00          P   \\nATOM      2  OP1   C A 252    -152.946-241.925 202.239  1.00  0.00          O   \\nATOM      3  OP2   C A 252    -153.108-240.991 204.620  1.00  0.00          O   \\nATOM      4  O5'   C A 252    -153.683-239.582 202.630  1.00  0.00          O   \\nATOM      5  C5'   C A 252    -154.186-239.356 201.302  1.00  0.00          C   \\nATOM      6  C4'   C A 252    -154.099-237.894 200.950  1.00  0.00          C   \\nATOM      7  O4'   C A 252    -155.028-237.132 201.764  1.00  0.00          O   \\nATOM      8  C3'   C A 252    -152.760-237.232 201.219  1.00  0.00          C   \\nATOM      9  O3'   C A 252    -151.808-237.519 200.210  1.00  0.00          O   \\nATOM     10  C2'   C A 252    -153.147-235.761 201.285  1.00  0.00          C   \\nATOM     11  O2'   C A 252    -153.373-235.185 200.014  1.00  0.00          O   \\nATOM     12  C1'   C A 252    -154.482-235.846 202.028  1.00  0.00          C   \\nATOM     13  N1    C A 252    -154.343-235.679 203.490  1.00  0.00          N   \\nATOM     14  C2    C A 252    -154.311-234.378 204.024  1.00  0.00          C   \\nATOM     15  O2    C A 252    -154.384-233.411 203.258  1.00  0.00          O   \\nATOM     16  N3    C A 252    -154.200-234.215 205.359  1.00  0.00          N   \\nATOM     17  C4    C A 252    -154.125-235.277 206.158  1.00  0.00          C   \\nATOM     18  N4    C A 252    -154.023-235.062 207.471  1.00  0.00          N   \\nATOM     19  C5    C A 252    -154.151-236.610 205.647  1.00  0.00          C   \\nATOM     20  C6    C A 252    -154.256-236.763 204.320  1.00  0.00          C   \\nATOM     21  P     U A 253    -150.270-237.749 200.614  1.00  0.00          P   \\nATOM     22  OP1   U A 253    -149.550-238.064 199.354  1.00  0.00          O   \\nATOM     23  OP2   U A 253    -150.195-238.697 201.761  1.00  0.00          O   \\nATOM     24  O5'   U A 253    -149.793-236.322 201.133  1.00  0.00          O   \\nATOM     25  C5'   U A 253    -149.775-235.176 200.254  1.00  0.00          C   \\nATOM     26  C4'   U A 253    -149.401-233.928 201.024  1.00  0.00          C   \\nATOM     27  O4'   U A 253    -150.464-233.579 201.948  1.00  0.00          O   \\nATOM     28  C3'   U A 253    -148.178-234.048 201.918  1.00  0.00          C   \\nATOM     29  O3'   U A 253    -146.953-233.945 201.201  1.00  0.00          O   \\nATOM     30  C2'   U A 253    -148.392-232.904 202.899  1.00  0.00          C   \\nATOM     31  O2'   U A 253    -148.055-231.637 202.367  1.00  0.00          O   \\nATOM     32  C1'   U A 253    -149.906-232.980 203.108  1.00  0.00          C   \\nATOM     33  N1    U A 253    -150.263-233.785 204.287  1.00  0.00          N   \\nATOM     34  C2    U A 253    -150.409-233.118 205.494  1.00  0.00          C   \\nATOM     35  O2    U A 253    -150.285-231.905 205.604  1.00  0.00          O   \\nATOM     36  N3    U A 253    -150.704-233.920 206.570  1.00  0.00          N   \\nATOM     37  C4    U A 253    -150.866-235.284 206.567  1.00  0.00          C   \\nATOM     38  O4    U A 253    -151.076-235.869 207.632  1.00  0.00          O   \\nATOM     39  C5    U A 253    -150.720-235.898 205.284  1.00  0.00          C   \\nATOM     40  C6    U A 253    -150.433-235.149 204.215  1.00  0.00          C   \\nATOM     41  P     C A 254    -145.763-234.975 201.524  1.00  0.00          P   \\nATOM     42  OP1   C A 254    -144.556-234.532 200.785  1.00  0.00          O   \\nATOM     43  OP2   C A 254    -146.300-236.348 201.302  1.00  0.00          O   \\nATOM     44  O5'   C A 254    -145.498-234.781 203.086  1.00  0.00          O   \\nATOM     45  C5'   C A 254    -144.723-235.738 203.837  1.00  0.00          C   \\nATOM     46  C4'   C A 254    -143.849-235.030 204.850  1.00  0.00          C   \\nATOM     47  O4'   C A 254    -142.861-234.220 204.154  1.00  0.00          O   \\nATOM     48  C3'   C A 254    -144.560-234.041 205.758  1.00  0.00          C   \\nATOM     49  O3'   C A 254    -145.186-234.670 206.870  1.00  0.00          O   \\nATOM     50  C2'   C A 254    -143.425-233.122 206.182  1.00  0.00          C   \\nATOM     51  O2'   C A 254    -142.621-233.686 207.196  1.00  0.00          O   \\nATOM     52  C1'   C A 254    -142.623-233.020 204.881  1.00  0.00          C   \\nATOM     53  N1    C A 254    -143.018-231.868 204.035  1.00  0.00          N   \\nATOM     54  C2    C A 254    -142.977-230.567 204.582  1.00  0.00          C   \\nATOM     55  O2    C A 254    -142.578-230.411 205.752  1.00  0.00          O   \\nATOM     56  N3    C A 254    -143.372-229.519 203.818  1.00  0.00          N   \\nATOM     57  C4    C A 254    -143.786-229.722 202.564  1.00  0.00          C   \\nATOM     58  N4    C A 254    -144.183-228.661 201.855  1.00  0.00          N   \\nATOM     59  C5    C A 254    -143.814-231.023 201.981  1.00  0.00          C   \\nATOM     60  C6    C A 254    -143.427-232.055 202.742  1.00  0.00          C   \\nATOM     61  P     A A 255    -146.617-234.139 207.379  1.00  0.00          P   \\nATOM     62  OP1   A A 255    -146.997-234.922 208.585  1.00  0.00          O   \\nATOM     63  OP2   A A 255    -147.523-234.116 206.199  1.00  0.00          O   \\nATOM     64  O5'   A A 255    -146.348-232.630 207.818  1.00  0.00          O   \\nATOM     65  C5'   A A 255    -145.407-232.307 208.871  1.00  0.00          C   \\nATOM     66  C4'   A A 255    -145.179-230.810 208.937  1.00  0.00          C   \\nATOM     67  O4'   A A 255    -144.626-230.345 207.677  1.00  0.00          O   \\nATOM     68  C3'   A A 255    -146.418-229.949 209.138  1.00  0.00          C   \\nATOM     69  O3'   A A 255    -146.761-229.858 210.518  1.00  0.00          O   \\nATOM     70  C2'   A A 255    -145.971-228.606 208.579  1.00  0.00          C   \\nATOM     71  O2'   A A 255    -145.158-227.897 209.491  1.00  0.00          O   \\nATOM     72  C1'   A A 255    -145.111-229.045 207.392  1.00  0.00          C   \\nATOM     73  N9    A A 255    -145.823-229.079 206.111  1.00  0.00          N   \\nATOM     74  C8    A A 255    -146.379-230.158 205.466  1.00  0.00          C   \\nATOM     75  N7    A A 255    -146.934-229.859 204.316  1.00  0.00          N   \\nATOM     76  C5    A A 255    -146.735-228.493 204.195  1.00  0.00          C   \\nATOM     77  C6    A A 255    -147.090-227.565 203.194  1.00  0.00          C   \\nATOM     78  N6    A A 255    -147.744-227.891 202.077  1.00  0.00          N   \\nATOM     79  N1    A A 255    -146.744-226.273 203.383  1.00  0.00          N   \\nATOM     80  C2    A A 255    -146.089-225.945 204.503  1.00  0.00          C   \\nATOM     81  N3    A A 255    -145.700-226.721 205.514  1.00  0.00          N   \\nATOM     82  C4    A A 255    -146.057-227.997 205.296  1.00  0.00          C   \\nATOM     83  P     C A 256    -148.277-229.533 210.949  1.00  0.00          P   \\nATOM     84  OP1   C A 256    -148.269-229.412 212.431  1.00  0.00          O   \\nATOM     85  OP2   C A 256    -149.195-230.507 210.303  1.00  0.00          O   \\nATOM     86  O5'   C A 256    -148.573-228.101 210.309  1.00  0.00          O   \\nATOM     87  C5'   C A 256    -147.989-226.899 210.851  1.00  0.00          C   \\nATOM     88  C4'   C A 256    -148.298-225.718 209.959  1.00  0.00          C   \\nATOM     89  O4'   C A 256    -147.741-225.960 208.641  1.00  0.00          O   \\nATOM     90  C3'   C A 256    -149.771-225.443 209.694  1.00  0.00          C   \\nATOM     91  O3'   C A 256    -150.340-224.652 210.725  1.00  0.00          O   \\nATOM     92  C2'   C A 256    -149.724-224.669 208.385  1.00  0.00          C   \\nATOM     93  O2'   C A 256    -149.369-223.313 208.556  1.00  0.00          O   \\nATOM     94  C1'   C A 256    -148.583-225.381 207.657  1.00  0.00          C   \\nATOM     95  N1    C A 256    -149.038-226.439 206.732  1.00  0.00          N   \\nATOM     96  C2    C A 256    -149.405-226.081 205.422  1.00  0.00          C   \\nATOM     97  O2    C A 256    -149.360-224.881 205.083  1.00  0.00          O   \\nATOM     98  N3    C A 256    -149.802-227.048 204.560  1.00  0.00          N   \\nATOM     99  C4    C A 256    -149.845-228.321 204.958  1.00  0.00          C   \\nATOM    100  N4    C A 256    -150.228-229.240 204.067  1.00  0.00          N   \\nATOM    101  C5    C A 256    -149.493-228.710 206.284  1.00  0.00          C   \\nATOM    102  C6    C A 256    -149.099-227.747 207.129  1.00  0.00          C   \\nATOM    103  P     G A 257    -151.817-224.977 211.272  1.00  0.00          P   \\nATOM    104  OP1   G A 257    -152.266-223.760 211.992  1.00  0.00          O   \\nATOM    105  OP2   G A 257    -151.801-226.281 211.976  1.00  0.00          O   \\nATOM    106  O5'   G A 257    -152.717-225.126 209.966  1.00  0.00          O   \\nATOM    107  C5'   G A 257    -153.049-223.981 209.165  1.00  0.00          C   \\nATOM    108  C4'   G A 257    -153.475-224.415 207.782  1.00  0.00          C   \\nATOM    109  O4'   G A 257    -152.471-225.328 207.255  1.00  0.00          O   \\nATOM    110  C3'   G A 257    -154.771-225.208 207.667  1.00  0.00          C   \\nATOM    111  O3'   G A 257    -155.930-224.375 207.665  1.00  0.00          O   \\nATOM    112  C2'   G A 257    -154.575-225.908 206.330  1.00  0.00          C   \\nATOM    113  O2'   G A 257    -154.765-225.056 205.216  1.00  0.00          O   \\nATOM    114  C1'   G A 257    -153.098-226.293 206.423  1.00  0.00          C   \\nATOM    115  N9    G A 257    -152.959-227.606 207.045  1.00  0.00          N   \\nATOM    116  C8    G A 257    -152.580-227.891 208.336  1.00  0.00          C   \\nATOM    117  N7    G A 257    -152.605-229.167 208.606  1.00  0.00          N   \\nATOM    118  C5    G A 257    -153.017-229.760 207.418  1.00  0.00          C   \\nATOM    119  C6    G A 257    -153.245-231.127 207.097  1.00  0.00          C   \\nATOM    120  O6    G A 257    -153.136-232.118 207.828  1.00  0.00          O   \\nATOM    121  N1    G A 257    -153.646-231.281 205.774  1.00  0.00          N   \\nATOM    122  C2    G A 257    -153.816-230.257 204.875  1.00  0.00          C   \\nATOM    123  N2    G A 257    -154.204-230.604 203.640  1.00  0.00          N   \\nATOM    124  N3    G A 257    -153.620-228.983 205.164  1.00  0.00          N   \\nATOM    125  C4    G A 257    -153.224-228.810 206.443  1.00  0.00          C   \\nTER     126        G A 257\\nENDMDL\\nEND\\n\",\"pdb\");\n",
       "\tviewergrid_153744826505[0][0].setStyle({\"stick\": {}});\n",
       "\tviewergrid_153744826505[0][1].setStyle({\"stick\": {}});\n",
       "\tviewergrid_153744826505[0][0].setBackgroundColor(\"0xeeeeee\");\n",
       "\tviewergrid_153744826505[0][1].setBackgroundColor(\"0xeeeeee\");\n",
       "\tviewergrid_153744826505[0][0].zoomTo();\n",
       "\tviewergrid_153744826505[0][1].zoomTo();\n",
       "viewergrid_153744826505[0][1].render();\n",
       "viewergrid_153744826505[0][0].render();\n",
       "});\n",
       "</script>"
      ],
      "text/plain": [
       "<IPython.core.display.HTML object>"
      ]
     },
     "execution_count": 6,
     "metadata": {},
     "output_type": "execute_result"
    }
   ],
   "source": [
    "import py3Dmol\n",
    "\n",
    "query_s = open(query,'r').read()\n",
    "hit_0 = open(pdbs[0],'r').read()\n",
    "\n",
    "p = py3Dmol.view(width=900,height=600,viewergrid=(1,2))\n",
    "p.addModel(query_s,'pdb',viewer=(0,0))\n",
    "p.addModel(hit_0,'pdb',viewer=(0,1))\n",
    "p.setStyle({'stick':{}})\n",
    "p.setBackgroundColor('0xeeeeee')\n",
    "p.zoomTo()\n",
    "p.show()"
   ]
  },
  {
   "cell_type": "markdown",
   "metadata": {
    "collapsed": true
   },
   "source": [
    "We can also check hit 14, that has low eRMSD but (relatively) high RMSD"
   ]
  },
  {
   "cell_type": "code",
   "execution_count": 7,
   "metadata": {},
   "outputs": [
    {
     "data": {
      "text/html": [
       "<div id=\"3dmolviewer_153744826508\"  style=\"position: relative; width: 900px; height: 600px\">\n",
       "<script>\n",
       "if(typeof $3Dmolpromise === 'undefined') $3Dmolpromise = $.when($.getScript('https://3dmol.csb.pitt.edu/build/3Dmol.js'))\n",
       "var viewer_153744826508 = null;\n",
       "$3Dmolpromise.done(function() {\n",
       "var viewergrid_153744826508 = null;\n",
       "viewergrid_153744826508 = $3Dmol.createViewerGrid($(\"#3dmolviewer_153744826508\"),{rows: 1, cols: 2, control_all: true},{backgroundColor:\"white\"});\n",
       "viewer_153744826508 = viewergrid_153744826508[0][0];\n",
       "\tviewergrid_153744826508[0][0].addModel(\"ATOM   8167  P     U 1 381    -154.386-241.040 202.969  1.00116.25           P  \\nATOM   8168  OP1   U 1 381    -154.031-242.162 202.062  1.00117.64           O  \\nATOM   8169  OP2   U 1 381    -153.842-241.035 204.360  1.00116.01           O1-\\nATOM   8170  O5'   U 1 381    -154.072-239.655 202.261  1.00114.36           O  \\nATOM   8171  C5'   U 1 381    -154.867-239.196 201.179  1.00114.13           C  \\nATOM   8172  C4'   U 1 381    -154.451-237.814 200.755  1.00112.23           C  \\nATOM   8173  O4'   U 1 381    -155.210-236.818 201.490  1.00111.23           O  \\nATOM   8174  C3'   U 1 381    -153.005-237.455 201.037  1.00111.22           C  \\nATOM   8175  O3'   U 1 381    -152.116-237.975 200.072  1.00111.62           O  \\nATOM   8176  C2'   U 1 381    -153.044-235.940 201.075  1.00109.33           C  \\nATOM   8177  O2'   U 1 381    -153.102-235.417 199.758  1.00108.78           O  \\nATOM   8178  C1'   U 1 381    -154.394-235.698 201.757  1.00109.51           C  \\nATOM   8179  N1    U 1 381    -154.259-235.555 203.227  1.00109.21           N  \\nATOM   8180  C2    U 1 381    -154.334-234.288 203.766  1.00107.66           C  \\nATOM   8181  O2    U 1 381    -154.496-233.297 203.085  1.00106.56           O  \\nATOM   8182  N3    U 1 381    -154.205-234.217 205.129  1.00107.49           N  \\nATOM   8183  C4    U 1 381    -154.020-235.276 205.994  1.00108.71           C  \\nATOM   8184  O4    U 1 381    -153.919-235.065 207.200  1.00108.40           O  \\nATOM   8185  C5    U 1 381    -153.960-236.560 205.372  1.00110.29           C  \\nATOM   8186  C6    U 1 381    -154.080-236.647 204.045  1.00110.49           C  \\nATOM   8187  P     G 1 382    -150.544-238.007 200.376  1.00121.09           P  \\nATOM   8188  OP1   G 1 382    -149.869-238.500 199.143  1.00121.57           O  \\nATOM   8189  OP2   G 1 382    -150.353-238.759 201.649  1.00121.94           O1-\\nATOM   8190  O5'   G 1 382    -150.215-236.470 200.597  1.00119.04           O  \\nATOM   8191  C5'   G 1 382    -148.968-236.071 201.124  1.00118.11           C  \\nATOM   8192  C4'   G 1 382    -148.932-234.594 201.402  1.00116.26           C  \\nATOM   8193  O4'   G 1 382    -150.204-234.163 201.968  1.00116.12           O  \\nATOM   8194  C3'   G 1 382    -147.901-234.152 202.425  1.00115.37           C  \\nATOM   8195  O3'   G 1 382    -146.610-234.006 201.878  1.00114.85           O  \\nATOM   8196  C2'   G 1 382    -148.506-232.869 202.958  1.00113.98           C  \\nATOM   8197  O2'   G 1 382    -148.396-231.831 201.998  1.00112.74           O  \\nATOM   8198  C1'   G 1 382    -149.969-233.286 203.047  1.00114.93           C  \\nATOM   8199  N9    G 1 382    -150.224-234.036 204.285  1.00115.88           N  \\nATOM   8200  C8    G 1 382    -150.465-235.389 204.358  1.00117.61           C  \\nATOM   8201  N7    G 1 382    -150.625-235.813 205.581  1.00118.17           N  \\nATOM   8202  C5    G 1 382    -150.464-234.668 206.358  1.00116.72           C  \\nATOM   8203  C6    G 1 382    -150.529-234.505 207.765  1.00116.56           C  \\nATOM   8204  O6    G 1 382    -150.750-235.369 208.628  1.00117.71           O  \\nATOM   8205  N1    G 1 382    -150.304-233.183 208.133  1.00114.91           N  \\nATOM   8206  C2    G 1 382    -150.053-232.158 207.263  1.00113.59           C  \\nATOM   8207  N2    G 1 382    -149.863-230.957 207.811  1.00112.13           N  \\nATOM   8208  N3    G 1 382    -149.991-232.288 205.954  1.00113.71           N  \\nATOM   8209  C4    G 1 382    -150.205-233.563 205.574  1.00115.29           C  \\nATOM   8210  P     A 1 383    -145.722-235.309 201.584  1.00132.25           P  \\nATOM   8211  OP1   A 1 383    -146.460-236.470 202.130  1.00133.87           O  \\nATOM   8212  OP2   A 1 383    -145.389-235.293 200.137  1.00132.22           O1-\\nATOM   8213  O5'   A 1 383    -144.410-235.050 202.454  1.00131.57           O  \\nATOM   8214  C5'   A 1 383    -144.247-235.652 203.735  1.00132.26           C  \\nATOM   8215  C4'   A 1 383    -143.439-234.775 204.663  1.00130.99           C  \\nATOM   8216  O4'   A 1 383    -142.592-233.888 203.884  1.00129.73           O  \\nATOM   8217  C3'   A 1 383    -144.239-233.842 205.568  1.00130.03           C  \\nATOM   8218  O3'   A 1 383    -144.700-234.489 206.750  1.00130.93           O  \\nATOM   8219  C2'   A 1 383    -143.259-232.695 205.835  1.00128.42           C  \\nATOM   8220  O2'   A 1 383    -142.346-233.035 206.871  1.00128.63           O  \\nATOM   8221  C1'   A 1 383    -142.486-232.629 204.517  1.00128.18           C  \\nATOM   8222  N9    A 1 383    -143.010-231.596 203.598  1.00127.09           N  \\nATOM   8223  C8    A 1 383    -143.683-231.808 202.418  1.00127.52           C  \\nATOM   8224  N7    A 1 383    -144.013-230.710 201.782  1.00126.32           N  \\nATOM   8225  C5    A 1 383    -143.516-229.701 202.590  1.00125.02           C  \\nATOM   8226  C6    A 1 383    -143.546-228.305 202.457  1.00123.44           C  \\nATOM   8227  N6    A 1 383    -144.117-227.667 201.434  1.00122.89           N  \\nATOM   8228  N1    A 1 383    -142.958-227.583 203.433  1.00122.47           N  \\nATOM   8229  C2    A 1 383    -142.384-228.226 204.465  1.00123.06           C  \\nATOM   8230  N3    A 1 383    -142.293-229.535 204.701  1.00124.54           N  \\nATOM   8231  C4    A 1 383    -142.887-230.228 203.710  1.00125.47           C  \\nATOM   8232  P     A 1 384    -146.141-234.134 207.387  1.00115.76           P  \\nATOM   8233  OP1   A 1 384    -146.299-234.992 208.593  1.00116.85           O  \\nATOM   8234  OP2   A 1 384    -147.144-234.241 206.296  1.00116.15           O1-\\nATOM   8235  O5'   A 1 384    -145.978-232.610 207.827  1.00113.88           O  \\nATOM   8236  C5'   A 1 384    -145.163-232.256 208.936  1.00113.30           C  \\nATOM   8237  C4'   A 1 384    -145.012-230.767 209.044  1.00111.53           C  \\nATOM   8238  O4'   A 1 384    -144.420-230.256 207.827  1.00110.75           O  \\nATOM   8239  C3'   A 1 384    -146.308-229.992 209.200  1.00110.96           C  \\nATOM   8240  O3'   A 1 384    -146.726-229.914 210.551  1.00111.06           O  \\nATOM   8241  C2'   A 1 384    -145.979-228.640 208.585  1.00109.31           C  \\nATOM   8242  O2'   A 1 384    -145.282-227.828 209.514  1.00108.26           O  \\nATOM   8243  C1'   A 1 384    -145.009-229.031 207.476  1.00109.48           C  \\nATOM   8244  N9    A 1 384    -145.676-229.198 206.176  1.00109.81           N  \\nATOM   8245  C8    A 1 384    -146.086-230.365 205.594  1.00111.25           C  \\nATOM   8246  N7    A 1 384    -146.623-230.184 204.414  1.00111.17           N  \\nATOM   8247  C5    A 1 384    -146.551-228.812 204.198  1.00109.59           C  \\nATOM   8248  C6    A 1 384    -146.954-227.978 203.131  1.00108.76           C  \\nATOM   8249  N6    A 1 384    -147.541-228.409 202.015  1.00109.45           N  \\nATOM   8250  N1    A 1 384    -146.730-226.652 203.243  1.00107.22           N  \\nATOM   8251  C2    A 1 384    -146.144-226.206 204.362  1.00106.56           C  \\nATOM   8252  N3    A 1 384    -145.723-226.882 205.431  1.00107.19           N  \\nATOM   8253  C4    A 1 384    -145.957-228.197 205.281  1.00108.73           C  \\nATOM   8254  P     A 1 385    -148.129-229.237 210.932  1.00115.07           P  \\nATOM   8255  OP1   A 1 385    -148.488-229.708 212.294  1.00115.81           O  \\nATOM   8256  OP2   A 1 385    -149.051-229.509 209.819  1.00115.59           O1-\\nATOM   8257  O5'   A 1 385    -147.782-227.689 210.974  1.00113.24           O  \\nATOM   8258  C5'   A 1 385    -148.768-226.731 211.317  1.00112.49           C  \\nATOM   8259  C4'   A 1 385    -148.679-225.524 210.426  1.00111.09           C  \\nATOM   8260  O4'   A 1 385    -147.883-225.841 209.260  1.00111.14           O  \\nATOM   8261  C3'   A 1 385    -149.993-225.025 209.862  1.00110.94           C  \\nATOM   8262  O3'   A 1 385    -150.680-224.183 210.758  1.00110.33           O  \\nATOM   8263  C2'   A 1 385    -149.575-224.328 208.577  1.00110.02           C  \\nATOM   8264  O2'   A 1 385    -149.087-223.024 208.848  1.00108.50           O  \\nATOM   8265  C1'   A 1 385    -148.409-225.200 208.125  1.00110.56           C  \\nATOM   8266  N9    A 1 385    -148.834-226.236 207.179  1.00111.79           N  \\nATOM   8267  C8    A 1 385    -148.875-227.586 207.403  1.00113.29           C  \\nATOM   8268  N7    A 1 385    -149.294-228.268 206.363  1.00114.17           N  \\nATOM   8269  C5    A 1 385    -149.530-227.301 205.401  1.00113.16           C  \\nATOM   8270  C6    A 1 385    -149.982-227.386 204.080  1.00113.41           C  \\nATOM   8271  N6    A 1 385    -150.287-228.537 203.479  1.00114.82           N  \\nATOM   8272  N1    A 1 385    -150.105-226.225 203.396  1.00112.18           N  \\nATOM   8273  C2    A 1 385    -149.790-225.072 204.013  1.00110.81           C  \\nATOM   8274  N3    A 1 385    -149.352-224.865 205.254  1.00110.43           N  \\nATOM   8275  C4    A 1 385    -149.243-226.040 205.892  1.00111.67           C  \\nATOM   8276  P     A 1 386    -152.063-224.665 211.396  1.00103.21           P  \\nATOM   8277  OP1   A 1 386    -152.682-223.471 212.055  1.00102.21           O  \\nATOM   8278  OP2   A 1 386    -151.761-225.867 212.217  1.00104.47           O1-\\nATOM   8279  O5'   A 1 386    -152.913-225.086 210.112  1.00103.89           O  \\nATOM   8280  C5'   A 1 386    -153.528-224.104 209.292  1.00103.06           C  \\nATOM   8281  C4'   A 1 386    -153.632-224.564 207.863  1.00103.52           C  \\nATOM   8282  O4'   A 1 386    -152.556-225.485 207.562  1.00104.10           O  \\nATOM   8283  C3'   A 1 386    -154.876-225.341 207.508  1.00104.82           C  \\nATOM   8284  O3'   A 1 386    -155.991-224.513 207.293  1.00104.39           O  \\nATOM   8285  C2'   A 1 386    -154.440-226.100 206.270  1.00105.45           C  \\nATOM   8286  O2'   A 1 386    -154.416-225.239 205.141  1.00104.52           O  \\nATOM   8287  C1'   A 1 386    -153.003-226.454 206.642  1.00105.29           C  \\nATOM   8288  N9    A 1 386    -152.919-227.770 207.288  1.00106.73           N  \\nATOM   8289  C8    A 1 386    -152.576-228.042 208.585  1.00106.94           C  \\nATOM   8290  N7    A 1 386    -152.607-229.321 208.861  1.00108.40           N  \\nATOM   8291  C5    A 1 386    -152.994-229.920 207.670  1.00109.19           C  \\nATOM   8292  C6    A 1 386    -153.210-231.259 207.312  1.00110.80           C  \\nATOM   8293  N6    A 1 386    -153.057-232.274 208.158  1.00111.96           N  \\nATOM   8294  N1    A 1 386    -153.596-231.520 206.043  1.00111.24           N  \\nATOM   8295  C2    A 1 386    -153.751-230.488 205.200  1.00110.11           C  \\nATOM   8296  N3    A 1 386    -153.577-229.186 205.417  1.00108.55           N  \\nATOM   8297  C4    A 1 386    -153.191-228.971 206.688  1.00108.17           C  \\n\",\"pdb\");\n",
       "\tviewergrid_153744826508[0][1].addModel(\"REMARK   1 CREATED WITH MDTraj 1.9.1, 2018-09-20\\nCRYST1  211.660  299.670  573.770  90.00  90.00  90.00 P 1           1 \\nMODEL        0\\nATOM      1  P     C A1594    -156.725-241.324 202.576  1.00  0.00          P   \\nATOM      2  OP1   C A1594    -156.287-242.285 201.525  1.00  0.00          O   \\nATOM      3  OP2   C A1594    -156.088-241.370 203.913  1.00  0.00          O   \\nATOM      4  O5'   C A1594    -156.616-239.851 201.982  1.00  0.00          O   \\nATOM      5  C5'   C A1594    -157.064-239.562 200.638  1.00  0.00          C   \\nATOM      6  C4'   C A1594    -156.571-238.200 200.199  1.00  0.00          C   \\nATOM      7  O4'   C A1594    -157.307-237.149 200.889  1.00  0.00          O   \\nATOM      8  C3'   C A1594    -155.116-237.895 200.517  1.00  0.00          C   \\nATOM      9  O3'   C A1594    -154.201-238.496 199.613  1.00  0.00          O   \\nATOM     10  C2'   C A1594    -155.092-236.376 200.481  1.00  0.00          C   \\nATOM     11  O2'   C A1594    -155.070-235.874 199.156  1.00  0.00          O   \\nATOM     12  C1'   C A1594    -156.436-236.050 201.142  1.00  0.00          C   \\nATOM     13  N1    C A1594    -156.329-235.865 202.604  1.00  0.00          N   \\nATOM     14  C2    C A1594    -156.055-234.585 203.112  1.00  0.00          C   \\nATOM     15  O2    C A1594    -155.884-233.649 202.325  1.00  0.00          O   \\nATOM     16  N3    C A1594    -155.979-234.409 204.454  1.00  0.00          N   \\nATOM     17  C4    C A1594    -156.154-235.452 205.274  1.00  0.00          C   \\nATOM     18  N4    C A1594    -156.077-235.240 206.589  1.00  0.00          N   \\nATOM     19  C5    C A1594    -156.418-236.761 204.782  1.00  0.00          C   \\nATOM     20  C6    C A1594    -156.499-236.921 203.456  1.00  0.00          C   \\nATOM     21  P     G A1595    -152.753-238.938 200.142  1.00  0.00          P   \\nATOM     22  OP1   G A1595    -152.011-239.595 199.020  1.00  0.00          O   \\nATOM     23  OP2   G A1595    -152.931-239.654 201.429  1.00  0.00          O   \\nATOM     24  O5'   G A1595    -152.040-237.551 200.454  1.00  0.00          O   \\nATOM     25  C5'   G A1595    -151.785-236.616 199.397  1.00  0.00          C   \\nATOM     26  C4'   G A1595    -151.226-235.328 199.952  1.00  0.00          C   \\nATOM     27  O4'   G A1595    -152.224-234.657 200.770  1.00  0.00          O   \\nATOM     28  C3'   G A1595    -150.038-235.449 200.888  1.00  0.00          C   \\nATOM     29  O3'   G A1595    -148.825-235.684 200.201  1.00  0.00          O   \\nATOM     30  C2'   G A1595    -150.069-234.096 201.574  1.00  0.00          C   \\nATOM     31  O2'   G A1595    -149.621-233.073 200.710  1.00  0.00          O   \\nATOM     32  C1'   G A1595    -151.573-233.927 201.797  1.00  0.00          C   \\nATOM     33  N9    G A1595    -151.975-234.475 203.089  1.00  0.00          N   \\nATOM     34  C8    G A1595    -152.550-235.699 203.344  1.00  0.00          C   \\nATOM     35  N7    G A1595    -152.754-235.912 204.616  1.00  0.00          N   \\nATOM     36  C5    G A1595    -152.295-234.756 205.236  1.00  0.00          C   \\nATOM     37  C6    G A1595    -152.253-234.396 206.618  1.00  0.00          C   \\nATOM     38  O6    G A1595    -152.624-235.055 207.608  1.00  0.00          O   \\nATOM     39  N1    G A1595    -151.711-233.124 206.796  1.00  0.00          N   \\nATOM     40  C2    G A1595    -151.269-232.304 205.785  1.00  0.00          C   \\nATOM     41  N2    G A1595    -150.788-231.113 206.153  1.00  0.00          N   \\nATOM     42  N3    G A1595    -151.299-232.628 204.505  1.00  0.00          N   \\nATOM     43  C4    G A1595    -151.819-233.857 204.304  1.00  0.00          C   \\nATOM     44  P     A A1597    -142.668-233.790 202.630  1.00  0.00          P   \\nATOM     45  OP1   A A1597    -141.532-233.590 201.702  1.00  0.00          O   \\nATOM     46  OP2   A A1597    -143.215-235.165 202.837  1.00  0.00          O   \\nATOM     47  O5'   A A1597    -142.235-233.205 204.042  1.00  0.00          O   \\nATOM     48  C5'   A A1597    -141.265-233.894 204.839  1.00  0.00          C   \\nATOM     49  C4'   A A1597    -140.787-233.009 205.955  1.00  0.00          C   \\nATOM     50  O4'   A A1597    -139.969-231.932 205.423  1.00  0.00          O   \\nATOM     51  C3'   A A1597    -141.885-232.295 206.722  1.00  0.00          C   \\nATOM     52  O3'   A A1597    -142.494-233.144 207.682  1.00  0.00          O   \\nATOM     53  C2'   A A1597    -141.108-231.149 207.347  1.00  0.00          C   \\nATOM     54  O2'   A A1597    -140.300-231.616 208.405  1.00  0.00          O   \\nATOM     55  C1'   A A1597    -140.188-230.753 206.187  1.00  0.00          C   \\nATOM     56  N9    A A1597    -140.772-229.728 205.312  1.00  0.00          N   \\nATOM     57  C8    A A1597    -141.294-229.892 204.049  1.00  0.00          C   \\nATOM     58  N7    A A1597    -141.766-228.787 203.523  1.00  0.00          N   \\nATOM     59  C5    A A1597    -141.540-227.830 204.498  1.00  0.00          C   \\nATOM     60  C6    A A1597    -141.829-226.454 204.557  1.00  0.00          C   \\nATOM     61  N6    A A1597    -142.449-225.780 203.580  1.00  0.00          N   \\nATOM     62  N1    A A1597    -141.467-225.786 205.672  1.00  0.00          N   \\nATOM     63  C2    A A1597    -140.867-226.461 206.656  1.00  0.00          C   \\nATOM     64  N3    A A1597    -140.553-227.750 206.725  1.00  0.00          N   \\nATOM     65  C4    A A1597    -140.920-228.389 205.601  1.00  0.00          C   \\nATOM     66  P     A A1598    -144.083-233.067 207.914  1.00  0.00          P   \\nATOM     67  OP1   A A1598    -144.409-234.049 208.978  1.00  0.00          O   \\nATOM     68  OP2   A A1598    -144.763-233.150 206.602  1.00  0.00          O   \\nATOM     69  O5'   A A1598    -144.327-231.608 208.509  1.00  0.00          O   \\nATOM     70  C5'   A A1598    -143.802-231.242 209.801  1.00  0.00          C   \\nATOM     71  C4'   A A1598    -143.984-229.768 210.044  1.00  0.00          C   \\nATOM     72  O4'   A A1598    -143.200-229.013 209.084  1.00  0.00          O   \\nATOM     73  C3'   A A1598    -145.392-229.240 209.853  1.00  0.00          C   \\nATOM     74  O3'   A A1598    -146.188-229.486 210.998  1.00  0.00          O   \\nATOM     75  C2'   A A1598    -145.139-227.758 209.625  1.00  0.00          C   \\nATOM     76  O2'   A A1598    -144.848-227.064 210.821  1.00  0.00          O   \\nATOM     77  C1'   A A1598    -143.878-227.809 208.761  1.00  0.00          C   \\nATOM     78  N9    A A1598    -144.212-227.847 207.341  1.00  0.00          N   \\nATOM     79  C8    A A1598    -144.063-228.892 206.468  1.00  0.00          C   \\nATOM     80  N7    A A1598    -144.489-228.631 205.256  1.00  0.00          N   \\nATOM     81  C5    A A1598    -144.945-227.326 205.335  1.00  0.00          C   \\nATOM     82  C6    A A1598    -145.526-226.471 204.389  1.00  0.00          C   \\nATOM     83  N6    A A1598    -145.753-226.814 203.121  1.00  0.00          N   \\nATOM     84  N1    A A1598    -145.870-225.232 204.795  1.00  0.00          N   \\nATOM     85  C2    A A1598    -145.636-224.888 206.062  1.00  0.00          C   \\nATOM     86  N3    A A1598    -145.096-225.600 207.043  1.00  0.00          N   \\nATOM     87  C4    A A1598    -144.770-226.826 206.610  1.00  0.00          C   \\nATOM     88  P     U A1599    -147.746-229.847 210.827  1.00  0.00          P   \\nATOM     89  OP1   U A1599    -148.183-230.337 212.162  1.00  0.00          O   \\nATOM     90  OP2   U A1599    -147.923-230.713 209.634  1.00  0.00          O   \\nATOM     91  O5'   U A1599    -148.455-228.447 210.523  1.00  0.00          O   \\nATOM     92  C5'   U A1599    -148.230-227.309 211.372  1.00  0.00          C   \\nATOM     93  C4'   U A1599    -148.566-226.024 210.648  1.00  0.00          C   \\nATOM     94  O4'   U A1599    -147.781-225.920 209.426  1.00  0.00          O   \\nATOM     95  C3'   U A1599    -149.991-225.884 210.157  1.00  0.00          C   \\nATOM     96  O3'   U A1599    -150.873-225.483 211.187  1.00  0.00          O   \\nATOM     97  C2'   U A1599    -149.853-224.816 209.083  1.00  0.00          C   \\nATOM     98  O2'   U A1599    -149.725-223.520 209.625  1.00  0.00          O   \\nATOM     99  C1'   U A1599    -148.524-225.209 208.442  1.00  0.00          C   \\nATOM    100  N1    U A1599    -148.687-226.051 207.244  1.00  0.00          N   \\nATOM    101  C2    U A1599    -149.065-225.431 206.064  1.00  0.00          C   \\nATOM    102  O2    U A1599    -149.256-224.234 205.972  1.00  0.00          O   \\nATOM    103  N3    U A1599    -149.211-226.268 204.990  1.00  0.00          N   \\nATOM    104  C4    U A1599    -149.022-227.631 204.969  1.00  0.00          C   \\nATOM    105  O4    U A1599    -149.230-228.253 203.928  1.00  0.00          O   \\nATOM    106  C5    U A1599    -148.624-228.198 206.217  1.00  0.00          C   \\nATOM    107  C6    U A1599    -148.475-227.411 207.285  1.00  0.00          C   \\nATOM    108  P     G A1600    -152.462-225.544 210.933  1.00  0.00          P   \\nATOM    109  OP1   G A1600    -153.129-224.809 212.035  1.00  0.00          O   \\nATOM    110  OP2   G A1600    -152.801-226.965 210.691  1.00  0.00          O   \\nATOM    111  O5'   G A1600    -152.670-224.722 209.582  1.00  0.00          O   \\nATOM    112  C5'   G A1600    -153.782-224.992 208.703  1.00  0.00          C   \\nATOM    113  C4'   G A1600    -153.289-225.250 207.293  1.00  0.00          C   \\nATOM    114  O4'   G A1600    -152.352-226.361 207.306  1.00  0.00          O   \\nATOM    115  C3'   G A1600    -154.365-225.667 206.306  1.00  0.00          C   \\nATOM    116  O3'   G A1600    -155.021-224.554 205.726  1.00  0.00          O   \\nATOM    117  C2'   G A1600    -153.584-226.488 205.295  1.00  0.00          C   \\nATOM    118  O2'   G A1600    -152.876-225.708 204.351  1.00  0.00          O   \\nATOM    119  C1'   G A1600    -152.613-227.228 206.216  1.00  0.00          C   \\nATOM    120  N9    G A1600    -153.184-228.461 206.762  1.00  0.00          N   \\nATOM    121  C8    G A1600    -153.364-228.765 208.091  1.00  0.00          C   \\nATOM    122  N7    G A1600    -153.915-229.929 208.283  1.00  0.00          N   \\nATOM    123  C5    G A1600    -154.110-230.432 207.002  1.00  0.00          C   \\nATOM    124  C6    G A1600    -154.682-231.662 206.577  1.00  0.00          C   \\nATOM    125  O6    G A1600    -155.141-232.574 207.270  1.00  0.00          O   \\nATOM    126  N1    G A1600    -154.688-231.772 205.189  1.00  0.00          N   \\nATOM    127  C2    G A1600    -154.213-230.822 204.322  1.00  0.00          C   \\nATOM    128  N2    G A1600    -154.321-231.108 203.020  1.00  0.00          N   \\nATOM    129  N3    G A1600    -153.677-229.671 204.706  1.00  0.00          N   \\nATOM    130  C4    G A1600    -153.659-229.544 206.051  1.00  0.00          C   \\nTER     131        G A1600\\nENDMDL\\nEND\\n\",\"pdb\");\n",
       "\tviewergrid_153744826508[0][0].setStyle({\"stick\": {}});\n",
       "\tviewergrid_153744826508[0][1].setStyle({\"stick\": {}});\n",
       "\tviewergrid_153744826508[0][0].setBackgroundColor(\"0xeeeeee\");\n",
       "\tviewergrid_153744826508[0][1].setBackgroundColor(\"0xeeeeee\");\n",
       "\tviewergrid_153744826508[0][0].zoomTo();\n",
       "\tviewergrid_153744826508[0][1].zoomTo();\n",
       "viewergrid_153744826508[0][1].render();\n",
       "viewergrid_153744826508[0][0].render();\n",
       "});\n",
       "</script>"
      ],
      "text/plain": [
       "<IPython.core.display.HTML object>"
      ]
     },
     "execution_count": 7,
     "metadata": {},
     "output_type": "execute_result"
    }
   ],
   "source": [
    "hit_14 = open(pdbs[14],'r').read()\n",
    "\n",
    "p = py3Dmol.view(width=900,height=600,viewergrid=(1,2))\n",
    "p.addModel(query_s,'pdb',viewer=(0,0))\n",
    "p.addModel(hit_14,'pdb',viewer=(0,1))\n",
    "p.setStyle({'stick':{}})\n",
    "p.setBackgroundColor('0xeeeeee')\n",
    "p.zoomTo()\n",
    "p.show()"
   ]
  }
 ],
 "metadata": {
  "kernelspec": {
   "display_name": "Python [conda env:anaconda]",
   "language": "python",
   "name": "conda-env-anaconda-py"
  },
  "language_info": {
   "codemirror_mode": {
    "name": "ipython",
    "version": 2
   },
   "file_extension": ".py",
   "mimetype": "text/x-python",
   "name": "python",
   "nbconvert_exporter": "python",
   "pygments_lexer": "ipython2",
   "version": "2.7.14"
  }
 },
 "nbformat": 4,
 "nbformat_minor": 2
}
