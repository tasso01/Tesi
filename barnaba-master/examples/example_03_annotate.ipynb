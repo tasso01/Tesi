{
 "cells": [
  {
   "cell_type": "code",
   "execution_count": 1,
   "metadata": {},
   "outputs": [
    {
     "data": {
      "application/javascript": [
       "IPython.notebook.set_autosave_interval(0)"
      ]
     },
     "metadata": {},
     "output_type": "display_data"
    },
    {
     "name": "stdout",
     "output_type": "stream",
     "text": [
      "Autosave disabled\n"
     ]
    }
   ],
   "source": [
    "%autosave 0\n",
    "from __future__ import print_function"
   ]
  },
  {
   "cell_type": "markdown",
   "metadata": {},
   "source": [
    "# Annotate structures and simulations #\n",
    "\n",
    "We here show how to find base-pairs and stacking interactions in structures and simulations.\n",
    "The function\n",
    "```python\n",
    "stackings, pairings, res = bb.annotate(pdb)\n",
    "```\n",
    "returns three lists:\n",
    "- a list of stacking interactions\n",
    "- a list of pairing interactions \n",
    "- the list of residue names following the usual convention RESNAME_RESNUMBER_CHAININDEX\n",
    "\n",
    "`stackings` and `pairings`  contain the list of interactions for the *N* frames in the PDB/trajectory file and it is organized in the following way: for a given frame $i=1..N$ there are $k=1..Q$ interactions between residues with index `pairings[i][0][k][0]` and `pairings[i][0][k][1]`. The type of interaction is specified at the element `pairings[i][1][k]`.\n",
    "\n",
    "But let's make an example by annotating a PDB file containing a sarcin-ricin motif:"
   ]
  },
  {
   "cell_type": "code",
   "execution_count": 2,
   "metadata": {},
   "outputs": [
    {
     "name": "stdout",
     "output_type": "stream",
     "text": [
      "BASE-PAIRS\n",
      "     C_6_0     G_24_0  WCc\n",
      "     U_7_0     C_23_0  WHc\n",
      "     C_8_0     C_22_0  SHt\n",
      "     A_9_0     A_21_0  HHt\n",
      "    G_10_0     U_11_0  SHc\n",
      "    U_11_0     A_20_0  WHt\n",
      "    A_12_0     G_19_0  HSc\n",
      "    U_13_0     A_18_0  WCc\n",
      "\n",
      "STACKING\n",
      "     C_6_0      U_7_0   >>\n",
      "     U_7_0      C_8_0   >>\n",
      "     C_8_0      A_9_0   ><\n",
      "    A_12_0     U_13_0   >>\n",
      "    A_12_0     A_20_0   <>\n",
      "    A_18_0     G_19_0   >>\n",
      "    A_20_0     A_21_0   >>\n",
      "    A_21_0     C_22_0   >>\n",
      "    C_22_0     C_23_0   >>\n"
     ]
    },
    {
     "name": "stderr",
     "output_type": "stream",
     "text": [
      "# Loading ../test/data/SARCIN.pdb \n"
     ]
    }
   ],
   "source": [
    "import barnaba as bb\n",
    "\n",
    "# annotate\n",
    "pdb = \"../test/data/SARCIN.pdb\"\n",
    "stackings, pairings, res = bb.annotate(pdb)\n",
    "\n",
    "# list base pairings\n",
    "print(\"BASE-PAIRS\")\n",
    "for p in range(len(pairings[0][0])):\n",
    "    res1 = res[pairings[0][0][p][0]]\n",
    "    res2 = res[pairings[0][0][p][1]]\n",
    "    interaction =  pairings[0][1][p]\n",
    "    print(\"%10s %10s %4s\" % (res1,res2,interaction))\n",
    "\n",
    "# list base-stackings\n",
    "print()\n",
    "print(\"STACKING\")\n",
    "for p in range(len(stackings[0][0])):\n",
    "    res1 = res[stackings[0][0][p][0]]\n",
    "    res2 = res[stackings[0][0][p][1]]\n",
    "    interaction =  stackings[0][1][p]\n",
    "    print(\"%10s %10s %4s\" % (res1,res2,interaction))"
   ]
  },
  {
   "cell_type": "markdown",
   "metadata": {},
   "source": [
    "## Decypher the annotation  ##\n",
    "Base-pairing are classified according to the Leontis-Westhof classification, where \n",
    "- W = Watson-Crick edge\n",
    "- H = Hoogsteeen edge \n",
    "- S= Sugar edge\n",
    "- c/t = cis/trans\n",
    "- XXx = when two bases are close in space, but they do not fall in any of the categories. This happens frequently for low-resolution structures or from molecular simulations.\n",
    "\n",
    "WWc pairs between complementary bases are called WCc or GUc.  \n",
    "Stacking are classified according to the MCannotate classification:\n",
    "- \">>\" Upward\n",
    "- \"<<\" Downward \n",
    "- \"<>\" Outward\n",
    "- \"><\" Inward\n",
    "\n",
    "\n",
    "\n",
    "## Criteria for stacking/pairing ##\n",
    "First, we consider only bases that are \"close\" in space, i.e. $R_{ij} < 1.7$ and $R_{ji} < 1.7$.  \n",
    "$R_{ij} = (x_{ij}/5, y_{ij}/5, z_{ij}/3)$ is the SCALED position vector with components ${x,y,z}$ (in $\\mathring{A}$) of base j constructed on base i.  \n",
    "The criteria for *base-stacking* are the following:\n",
    "\n",
    "$( |z_{ij}| \\; AND \\; |z_{ji}| > 2 \\mathring{A} ) \\; AND \\;  \n",
    "(\\rho_{ij} \\; OR\\; \\rho_{ji} < 2.5 \\mathring{A}) \\; AND\\;  \n",
    "(|\\theta_{ij}| < 40^{\\circ} ) $ \n",
    "\n",
    "where\n",
    "- $ \\rho_{ij} = \\sqrt{x_{ij}^2 + y_{ij}^2} $  \n",
    "- $\\theta_{ij}$ = angle between the vectors normal to the base plane\n",
    "\n",
    "The criteria for *base-pairing* are the following:  \n",
    "\n",
    "non stacked AND $|\\theta_{ij}| < 60^{\\circ}$ AND (number of hydrogen bonds $> 0$)  \n",
    "The number of hydrogen bonds is calculated as the number of donor-acceptor pairs with distance $< 3.3 \\mathring{A}$. \n",
    "If bases are complementary and the number of hydrogen bonds is > 1 (AU/GU) or > 2 (GC), the pair is considered WCc (or GUc).\n",
    "\n",
    "- cis/trans is calculated according to the value of the dihedral angle defined by $C1'_{i}-N1/N9_{i}-N1/N9_{j}-C1'_{j}$\n",
    "- edges are definded according to the value of $\\psi = \\arctan{(\\hat{y}_{ij}/\\hat{x}_{ij})}$. \n",
    "    1. Watson-Crick edge: $0.16 <\\psi \\le 2.0 rad$ \n",
    "    2. Hoogsteen edge:  $2.0 <\\psi \\le 4.0 rad $. \n",
    "    3. Sugar edge: $\\psi > 4.0, \\psi \\le 0.16$\n",
    "\n",
    "    \n",
    "**ATT!**\n",
    "- These criteria are slightly different from the one used in other popular software for annotating three-dimensional structures (e.g. X3DNA, MCAnnotate, Fr3D, etc.). From my experience, all these packages give slightly different results, especially for non-Watson-Crick base-pairs.\n",
    "- Stacking is also problematic, as it relies on arbitrary criteria.\n",
    "- In all cases, criteria for stacking and pairing were calibrated to work well for high resolution structures. These criteria might not be optimal for low-resolution structures and to describe nearly-formed interactions such the ones that are often encountered in molecular simulations.\n",
    "\n",
    "## Dot-bracket annotation ##\n",
    "\n",
    "From the list of base-pairing, we can obtain the dot-bracket annotation using the function\n",
    "```python\n",
    "dotbracket = bb.dot_bracket(pairings,res)\n",
    "```\n",
    "this function returns a string for each frame in the PDB/simulation. Let's see this in action:\n"
   ]
  },
  {
   "cell_type": "code",
   "execution_count": 3,
   "metadata": {},
   "outputs": [
    {
     "name": "stdout",
     "output_type": "stream",
     "text": [
      "> CUCAGUAUAGAACCG\n",
      "\n",
      "(......().....)\n"
     ]
    }
   ],
   "source": [
    "dotbr, seq = bb.dot_bracket(pairings,res)\n",
    "print(\">\",seq)\n",
    "for j in range(len(dotbr)):\n",
    "    print(dotbr[j])"
   ]
  }
 ],
 "metadata": {
  "kernelspec": {
   "display_name": "Python [conda root]",
   "language": "python",
   "name": "conda-root-py"
  },
  "language_info": {
   "codemirror_mode": {
    "name": "ipython",
    "version": 2
   },
   "file_extension": ".py",
   "mimetype": "text/x-python",
   "name": "python",
   "nbconvert_exporter": "python",
   "pygments_lexer": "ipython2",
   "version": "2.7.14"
  }
 },
 "nbformat": 4,
 "nbformat_minor": 2
}
