{
 "cells": [
  {
   "cell_type": "markdown",
   "metadata": {},
   "source": [
    "# Dynamic secondary structure figures #\n",
    "\n",
    "In barnaba it is possible to create secondary structure figures showing the variability in the annotation within a set of structures. As an example, we generate this figure using all hits from the example `example_06_single_strand_motif`. \n",
    "Note that this functionality is only available as a command-line tool."
   ]
  },
  {
   "cell_type": "code",
   "execution_count": 17,
   "metadata": {},
   "outputs": [
    {
     "name": "stdout",
     "output_type": "stream",
     "text": [
      "dynamic_ss.SEC_STRUCTURE_167steps.svg\r\n"
     ]
    }
   ],
   "source": [
    "import os\n",
    "\n",
    "# annotate structures\n",
    "cmd = \"barnaba ANNOTATE --pdb gnra_loops_*.pdb -o dynamic_ss\"\n",
    "os.system(cmd)\n",
    "# this produces two files containing the annotations\n",
    "\n",
    "\n",
    "# call SEC_STRUCTURE and specify stacking/pairing annotation files\n",
    "cmd = \"barnaba SEC_STRUCTURE --ann dynamic_ss.ANNOTATE.stacking.out dynamic_ss.ANNOTATE.pairing.out -o dynamic_ss\"\n",
    "os.system(cmd)\n",
    "%ls dynamic_ss*.svg\n"
   ]
  },
  {
   "cell_type": "markdown",
   "metadata": {},
   "source": [
    "We now look at the .svg figure \n",
    "\n",
    "<img src=\"dynamic_ss.SEC_STRUCTURE_167steps.svg\" width=300 height=300>"
   ]
  },
  {
   "cell_type": "code",
   "execution_count": null,
   "metadata": {},
   "outputs": [],
   "source": []
  }
 ],
 "metadata": {
  "kernelspec": {
   "display_name": "Python [conda root]",
   "language": "python",
   "name": "conda-root-py"
  },
  "language_info": {
   "codemirror_mode": {
    "name": "ipython",
    "version": 2
   },
   "file_extension": ".py",
   "mimetype": "text/x-python",
   "name": "python",
   "nbconvert_exporter": "python",
   "pygments_lexer": "ipython2",
   "version": "2.7.14"
  }
 },
 "nbformat": 4,
 "nbformat_minor": 2
}
